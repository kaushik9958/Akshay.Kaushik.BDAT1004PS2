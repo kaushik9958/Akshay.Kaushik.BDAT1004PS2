{
 "cells": [
  {
   "cell_type": "markdown",
   "id": "c4882281",
   "metadata": {},
   "source": [
    "# Problem Set 2 \n",
    "\n"
   ]
  },
  {
   "cell_type": "markdown",
   "id": "46b59b09",
   "metadata": {},
   "source": [
    "# Question 1 \n",
    "Consider the following Python module: \n",
    "a = 0 \n",
    "def  b(): \n",
    "global  a \n",
    "a  = c(a) \n",
    " \n",
    "def  c(a): \n",
    "return  a  +  2 \n",
    " \n",
    "After importing the module into the interpreter, you execute: \n",
    " \n",
    ">>> b() \n",
    ">>> b() \n",
    ">>> b() \n",
    ">>> a \n",
    "? \n",
    " \n",
    "What value is displayed when the last expression (a) is evaluated? Explain your \n",
    "answer by indicating what happens in every executed statement."
   ]
  },
  {
   "cell_type": "code",
   "execution_count": 81,
   "id": "9dcc9bf2",
   "metadata": {},
   "outputs": [
    {
     "name": "stdout",
     "output_type": "stream",
     "text": [
      "Output for the question-1:\n",
      "\n",
      "6\n"
     ]
    }
   ],
   "source": [
    "a = 0\n",
    "\n",
    "def b():\n",
    "    global a\n",
    "    a = c(a)\n",
    "\n",
    "def c(a):\n",
    "    return a + 2\n",
    "\n",
    "# Execution and output:\n",
    "b()  # After this, a becomes 2\n",
    "b()  # Now a becomes 4\n",
    "b()  # Now a becomes 6\n",
    "print(\"Output for the question-1:\\n\")\n",
    "print(a)  # Output will be 6\n"
   ]
  },
  {
   "cell_type": "markdown",
   "id": "4d89d481",
   "metadata": {},
   "source": [
    "### Explaination\n",
    "As per the execution, on each call to b() increments variable a by 2 and the three calls result in a increasing value from 0 to 6.\n",
    "\n",
    "In more detailed, the final output of a is 6 because each call to the function b() increases a by 2. Starting from an initial value of 0, we call b() three times, resulting in increments of 2 on each call. Thus, a progresses as follows:\n",
    "\n",
    "After the first call to b(): a = 2\n",
    "\n",
    "After the second call to b(): a = 4\n",
    "\n",
    "After the third call to b(): a = 6\n",
    "\n",
    "So, when we print a, the output is 6."
   ]
  },
  {
   "cell_type": "markdown",
   "id": "b0813cc5",
   "metadata": {},
   "source": [
    "# Question 2 \n",
    "Function fileLength(), given to you, takes the name of a file as input and returns \n",
    "the length of the file: \n",
    " \n",
    ">>>  fileLength('midterm.py') \n",
    "284 \n",
    ">>>  fileLength('idterm.py') \n",
    "Traceback  (most  recent  call  last): \n",
    "File  \"<pyshell#34>\",  line  1,  in  <module> \n",
    "fileLength('idterm.py') \n",
    "File  \"/Users/me/midterm.py\",  line  3,  in  fileLength \n",
    "infile  =  open(filename) \n",
    "FileNotFoundError:  [Errno  2]  No  such  file  or  directory: \n",
    "'idterm.py' \n",
    " \n",
    "As shown above, if the file cannot be found by the interpreter or if it cannot be read \n",
    "as a text file, an exception will be raised. Modify function fileLength() so that a \n",
    "friendly message is printed instead: \n",
    " \n",
    ">>>  fileLength('midterm.py') \n",
    "358 \n",
    ">>>  fileLength('idterm.py') \n",
    "File  idterm.py  not  found. "
   ]
  },
  {
   "cell_type": "code",
   "execution_count": 82,
   "id": "1eb78a23",
   "metadata": {},
   "outputs": [],
   "source": [
    "def fileLength(filename):\n",
    "    try:\n",
    "        with open(filename) as infile:\n",
    "            content = infile.read()\n",
    "        return len(content)\n",
    "    except FileNotFoundError:\n",
    "        print(f\"File {filename} not found.\")\n"
   ]
  },
  {
   "cell_type": "markdown",
   "id": "b7458cb7",
   "metadata": {},
   "source": [
    "### Check with the correct filename"
   ]
  },
  {
   "cell_type": "code",
   "execution_count": 83,
   "id": "90b80c0d",
   "metadata": {},
   "outputs": [
    {
     "data": {
      "text/plain": [
       "123"
      ]
     },
     "execution_count": 83,
     "metadata": {},
     "output_type": "execute_result"
    }
   ],
   "source": [
    "file = \"filelength(1).txt\"\n",
    "fileLength(file) "
   ]
  },
  {
   "cell_type": "markdown",
   "id": "315b5256",
   "metadata": {},
   "source": [
    "### Check with the in-correct filename"
   ]
  },
  {
   "cell_type": "code",
   "execution_count": 84,
   "id": "f4c686f9",
   "metadata": {},
   "outputs": [
    {
     "name": "stdout",
     "output_type": "stream",
     "text": [
      "File ilelength(1).txt not found.\n"
     ]
    }
   ],
   "source": [
    "file = \"ilelength(1).txt\"\n",
    "fileLength(file) \n"
   ]
  },
  {
   "cell_type": "markdown",
   "id": "fba6e74e",
   "metadata": {},
   "source": [
    "# Question 3 \n",
    "Write a class named Marsupial that can be used as shown below: \n",
    "\n",
    " \n",
    "Now write a class named Kangaroo as a subclass of Marsupial that inherits all the \n",
    "attributes of Marsupial and also: \n",
    "a. extends the Marsupial  __init__ constructor to take, as input, the \n",
    "coordinates x and y of the Kangaroo object, \n",
    "b. supports method jump that takes number values dx and dy as input and \n",
    "moves the kangaroo by dx units along the x-axis and by dy units along the y- \n",
    "axis, and \n",
    "c. overloads the __str__ operator so it behaves as shown below. "
   ]
  },
  {
   "cell_type": "code",
   "execution_count": 11,
   "id": "fe2d9a72",
   "metadata": {},
   "outputs": [],
   "source": [
    "class Marsupial:\n",
    "    def __init__(self):\n",
    "        self.pouch = []\n",
    "\n",
    "    def put_in_pouch(self, item):\n",
    "        self.pouch.append(item)\n",
    "\n",
    "    def pouch_contents(self):\n",
    "        return self.pouch\n",
    "\n",
    "class Kangaroo(Marsupial):\n",
    "    def __init__(self, x, y):\n",
    "        super().__init__()\n",
    "        self.x = x\n",
    "        self.y = y\n",
    "\n",
    "    def jump(self, dx, dy):\n",
    "        self.x += dx\n",
    "        self.y += dy\n",
    "\n",
    "    def __str__(self):\n",
    "        return f\"I am a Kangaroo located at coordinates ({self.x},{self.y})\"\n"
   ]
  },
  {
   "cell_type": "markdown",
   "id": "f5bc3a68",
   "metadata": {},
   "source": [
    "### Print the output"
   ]
  },
  {
   "cell_type": "code",
   "execution_count": 12,
   "id": "dc0f5213",
   "metadata": {},
   "outputs": [
    {
     "name": "stdout",
     "output_type": "stream",
     "text": [
      "I am a Kangaroo located at coordinates (0,0)\n"
     ]
    }
   ],
   "source": [
    "k  =  Kangaroo(0,0) \n",
    "print(k) "
   ]
  },
  {
   "cell_type": "code",
   "execution_count": 13,
   "id": "21963734",
   "metadata": {},
   "outputs": [
    {
     "data": {
      "text/plain": [
       "['doll', 'firetruck', 'kitten']"
      ]
     },
     "execution_count": 13,
     "metadata": {},
     "output_type": "execute_result"
    }
   ],
   "source": [
    " k.put_in_pouch('doll') \n",
    "k.put_in_pouch('firetruck') \n",
    "k.put_in_pouch('kitten') \n",
    "k.pouch_contents()"
   ]
  },
  {
   "cell_type": "code",
   "execution_count": 14,
   "id": "d7bb1c5f",
   "metadata": {},
   "outputs": [
    {
     "name": "stdout",
     "output_type": "stream",
     "text": [
      "I am a Kangaroo located at coordinates (3,0)\n"
     ]
    }
   ],
   "source": [
    "k.jump(1,0) \n",
    "k.jump(1,0) \n",
    "k.jump(1,0) \n",
    "print(k) "
   ]
  },
  {
   "cell_type": "markdown",
   "id": "c998c8ca",
   "metadata": {},
   "source": [
    "# Question 4 \n",
    "Write function collatz() that takes a positive integer x as input and prints the \n",
    "Collatz sequence starting at x. A Collatz sequence is obtained by repeatedly applying \n",
    "this rule to the previous number x in the sequence: \n",
    " \n",
    "x = {  𝑥/2 𝑖𝑓 𝑥 𝑖𝑠 𝑒𝑣𝑒𝑛 3𝑥 \n",
    "+ 1 𝑖𝑓 𝑥 𝑖𝑠 𝑜𝑑𝑑 \n",
    " \n",
    " \n",
    "Your function should stop when the sequence gets to number 1. Your \n",
    "implementation must be recursive, without any loops."
   ]
  },
  {
   "cell_type": "code",
   "execution_count": 16,
   "id": "c6cc4ca9",
   "metadata": {},
   "outputs": [],
   "source": [
    "def collatz(x):\n",
    "    print(x)\n",
    "    if x == 1:\n",
    "        return\n",
    "    elif x % 2 == 0:\n",
    "        collatz(x // 2)\n",
    "    else:\n",
    "        collatz(3 * x + 1)\n"
   ]
  },
  {
   "cell_type": "code",
   "execution_count": 17,
   "id": "4b4965ed",
   "metadata": {},
   "outputs": [
    {
     "name": "stdout",
     "output_type": "stream",
     "text": [
      "1\n"
     ]
    }
   ],
   "source": [
    "collatz(1) "
   ]
  },
  {
   "cell_type": "code",
   "execution_count": 18,
   "id": "c146e263",
   "metadata": {},
   "outputs": [
    {
     "name": "stdout",
     "output_type": "stream",
     "text": [
      "10\n",
      "5\n",
      "16\n",
      "8\n",
      "4\n",
      "2\n",
      "1\n"
     ]
    }
   ],
   "source": [
    "collatz(10) "
   ]
  },
  {
   "cell_type": "markdown",
   "id": "4ef6e513",
   "metadata": {},
   "source": [
    "# Question 5 \n",
    "Write a recursive method binary() that takes a non-negative \n",
    "integer n and prints the binary representation of integer n. "
   ]
  },
  {
   "cell_type": "code",
   "execution_count": 23,
   "id": "a745876e",
   "metadata": {},
   "outputs": [],
   "source": [
    "def binary(n):\n",
    "    if n < 2:\n",
    "        print(n, end=\"\")\n",
    "    else:\n",
    "        binary(n // 2)\n",
    "        print(n % 2, end=\"\")\n",
    " \n"
   ]
  },
  {
   "cell_type": "markdown",
   "id": "fd5d1ef9",
   "metadata": {},
   "source": [
    "### Output"
   ]
  },
  {
   "cell_type": "code",
   "execution_count": 25,
   "id": "62a985b7",
   "metadata": {},
   "outputs": [
    {
     "name": "stdout",
     "output_type": "stream",
     "text": [
      "0"
     ]
    }
   ],
   "source": [
    " binary(0) "
   ]
  },
  {
   "cell_type": "code",
   "execution_count": 26,
   "id": "9db6d4b7",
   "metadata": {},
   "outputs": [
    {
     "name": "stdout",
     "output_type": "stream",
     "text": [
      "1"
     ]
    }
   ],
   "source": [
    " binary(1) "
   ]
  },
  {
   "cell_type": "code",
   "execution_count": 24,
   "id": "02247d25",
   "metadata": {},
   "outputs": [
    {
     "name": "stdout",
     "output_type": "stream",
     "text": [
      "11"
     ]
    }
   ],
   "source": [
    "binary(3) "
   ]
  },
  {
   "cell_type": "code",
   "execution_count": 27,
   "id": "2dc49635",
   "metadata": {},
   "outputs": [
    {
     "name": "stdout",
     "output_type": "stream",
     "text": [
      "1001"
     ]
    }
   ],
   "source": [
    "binary(9) "
   ]
  },
  {
   "cell_type": "markdown",
   "id": "20fa5046",
   "metadata": {},
   "source": [
    "# Question 6 \n",
    "Implement a class named HeadingParser that can be used to parse an HTML \n",
    "document, and retrieve and print all the headings in the document. You should \n",
    "implement your class as a subclass of HTMLParser, defined in Standard Library \n",
    "module html.parser. When fed a string containing HTML code, your class should \n",
    "print the headings, one per line and in the order in which they appear in the \n",
    "document. Each heading should be indented as follows: an h1 heading should have \n",
    "indentation 0, and h2 heading should have indentation 1, etc. Test your \n",
    "implementation using w3c.html. "
   ]
  },
  {
   "cell_type": "code",
   "execution_count": 76,
   "id": "74f4d224",
   "metadata": {},
   "outputs": [],
   "source": [
    "from html.parser import HTMLParser\n",
    "\n",
    "class HeadingParser(HTMLParser):\n",
    "    def __init__(self):\n",
    "        super().__init__()\n",
    "        self.in_heading = False\n",
    "        self.heading_level = 0\n",
    "\n",
    "    def handle_starttag(self, tag, attrs):\n",
    "        if tag.startswith('h') and tag[1].isdigit():\n",
    "            self.in_heading = True\n",
    "            self.heading_level = int(tag[1]) - 1\n",
    "\n",
    "    def handle_endtag(self, tag):\n",
    "        if tag.startswith('h') and tag[1].isdigit():\n",
    "            self.in_heading = False\n",
    "\n",
    "    def handle_data(self, data):\n",
    "        if self.in_heading:\n",
    "            print(\" \" * self.heading_level + data)\n"
   ]
  },
  {
   "cell_type": "code",
   "execution_count": 77,
   "id": "a380bc48",
   "metadata": {},
   "outputs": [
    {
     "name": "stdout",
     "output_type": "stream",
     "text": [
      "W3C Mission\n",
      " Principles\n"
     ]
    }
   ],
   "source": [
    "infile  =  open('w3c.html') \n",
    "content  =  infile.read() \n",
    "infile.close() \n",
    "hp  =  HeadingParser() \n",
    "hp.feed(content) "
   ]
  },
  {
   "cell_type": "markdown",
   "id": "aa1acc97",
   "metadata": {},
   "source": [
    "# Question 7 \n",
    "Implement recursive function webdir() that takes as input: a URL (as a string) and \n",
    "non-negative integers depth and indent. Your function should visit every web \n",
    "page reachable from the starting URL web page in depth clicks or less, and print \n",
    "each web page's URL. As shown below, indentation, specified by indent,  should \n",
    "be used to indicate the depth of a URL. "
   ]
  },
  {
   "cell_type": "code",
   "execution_count": 87,
   "id": "0d322c91",
   "metadata": {},
   "outputs": [],
   "source": [
    "import requests\n",
    "from bs4 import BeautifulSoup\n",
    "\n",
    "def webdir(url, depth, indent):\n",
    "    if depth < 0:\n",
    "        return\n",
    "    \n",
    "    print(\" \" * indent + url)\n",
    "    \n",
    "    try:\n",
    "        response = requests.get(url)\n",
    "        soup = BeautifulSoup(response.text, \"html.parser\")\n",
    "        links = soup.find_all(\"a\", href=True)\n",
    "        for link in links:\n",
    "            href = link['href']\n",
    "            if href.startswith(\"http\"):\n",
    "                webdir(href, depth - 1, indent + 2)\n",
    "                \n",
    "    except requests.RequestException as e:\n",
    "        print(f\"Could not retrieve page {url}: {e}\")\n"
   ]
  },
  {
   "cell_type": "code",
   "execution_count": 88,
   "id": "7a606f33",
   "metadata": {},
   "outputs": [
    {
     "name": "stdout",
     "output_type": "stream",
     "text": [
      "http://reed.cs.depaul.edu/lperkovic/csc242/test1.html\n"
     ]
    }
   ],
   "source": [
    "webdir('http://reed.cs.depaul.edu/lperkovic/csc242/test1.html' ,  2,  0) "
   ]
  },
  {
   "cell_type": "markdown",
   "id": "da1f499e",
   "metadata": {},
   "source": [
    "# Question 8 \n",
    "Write SQL queries on the below database table that return: \n",
    "a) All the temperature data. \n",
    "b) All the cities, but without repetition. \n",
    "c) All the records for India. \n",
    "d) All the Fall records. \n",
    "e) The city, country, and season for which the average rainfall is between 200 \n",
    "and 400 millimeters. \n",
    "f) The city and country for which the average Fall temperature is above 20 \n",
    "degrees, in increasing temperature order. \n",
    "g) The total annual rainfall for Cairo. \n",
    "h) The total rainfall for each season. "
   ]
  },
  {
   "cell_type": "markdown",
   "id": "3e1430a2",
   "metadata": {},
   "source": [
    "### Establish the connection and database creation"
   ]
  },
  {
   "cell_type": "code",
   "execution_count": 52,
   "id": "95bbfa87",
   "metadata": {},
   "outputs": [],
   "source": [
    "import sqlite3\n",
    "\n",
    "# Connect to the SQLite database \n",
    "conn = sqlite3.connect('WeatherDB.db')\n",
    "cursor = conn.cursor()"
   ]
  },
  {
   "cell_type": "markdown",
   "id": "998273fd",
   "metadata": {},
   "source": [
    "### Create a table"
   ]
  },
  {
   "cell_type": "code",
   "execution_count": 43,
   "id": "75980cb5",
   "metadata": {},
   "outputs": [
    {
     "data": {
      "text/plain": [
       "<sqlite3.Cursor at 0x19cd3a83bc0>"
      ]
     },
     "execution_count": 43,
     "metadata": {},
     "output_type": "execute_result"
    }
   ],
   "source": [
    "# Step 1: Create the WeatherData table\n",
    "cursor.execute('''\n",
    "    CREATE TABLE IF NOT EXISTS WeatherData (\n",
    "        City TEXT,\n",
    "        Country TEXT,\n",
    "        Season TEXT,\n",
    "        Temperature REAL,\n",
    "        Rainfall REAL\n",
    "    )\n",
    "''')"
   ]
  },
  {
   "cell_type": "markdown",
   "id": "fd3a1c27",
   "metadata": {},
   "source": [
    "### Insert the data into table"
   ]
  },
  {
   "cell_type": "code",
   "execution_count": 44,
   "id": "c60703be",
   "metadata": {},
   "outputs": [
    {
     "data": {
      "text/plain": [
       "<sqlite3.Cursor at 0x19cd3a83bc0>"
      ]
     },
     "execution_count": 44,
     "metadata": {},
     "output_type": "execute_result"
    }
   ],
   "source": [
    "# Step 2: Insert data into the WeatherData table\n",
    "data = [\n",
    "    ('Mumbai', 'India', 'Winter', 24.8, 5.9),\n",
    "    ('Mumbai', 'India', 'Spring', 28.4, 16.2),\n",
    "    ('Mumbai', 'India', 'Summer', 27.9, 1549.4),\n",
    "    ('Mumbai', 'India', 'Fall', 27.6, 346.0),\n",
    "    ('London', 'United Kingdom', 'Winter', 4.2, 207.7),\n",
    "    ('London', 'United Kingdom', 'Spring', 8.3, 169.6),\n",
    "    ('London', 'United Kingdom', 'Summer', 15.7, 157.0),\n",
    "    ('London', 'United Kingdom', 'Fall', 10.4, 218.5),\n",
    "    ('Cairo', 'Egypt', 'Winter', 13.6, 16.5),\n",
    "    ('Cairo', 'Egypt', 'Spring', 20.7, 6.5),\n",
    "    ('Cairo', 'Egypt', 'Summer', 27.7, 0.1),\n",
    "    ('Cairo', 'Egypt', 'Fall', 22.2, 4.5)\n",
    "]\n",
    "\n",
    "cursor.executemany('''\n",
    "    INSERT INTO WeatherData (City, Country, Season, Temperature, Rainfall)\n",
    "    VALUES (?, ?, ?, ?, ?)\n",
    "''', data)"
   ]
  },
  {
   "cell_type": "markdown",
   "id": "12483cc1",
   "metadata": {},
   "source": [
    "### Commit the changes and print the data"
   ]
  },
  {
   "cell_type": "code",
   "execution_count": 45,
   "id": "80c78afe",
   "metadata": {
    "scrolled": true
   },
   "outputs": [
    {
     "name": "stdout",
     "output_type": "stream",
     "text": [
      "('Mumbai', 'India', 'Winter', 24.8, 5.9)\n",
      "('Mumbai', 'India', 'Spring', 28.4, 16.2)\n",
      "('Mumbai', 'India', 'Summer', 27.9, 1549.4)\n",
      "('Mumbai', 'India', 'Fall', 27.6, 346.0)\n",
      "('London', 'United Kingdom', 'Winter', 4.2, 207.7)\n",
      "('London', 'United Kingdom', 'Spring', 8.3, 169.6)\n",
      "('London', 'United Kingdom', 'Summer', 15.7, 157.0)\n",
      "('London', 'United Kingdom', 'Fall', 10.4, 218.5)\n",
      "('Cairo', 'Egypt', 'Winter', 13.6, 16.5)\n",
      "('Cairo', 'Egypt', 'Spring', 20.7, 6.5)\n",
      "('Cairo', 'Egypt', 'Summer', 27.7, 0.1)\n",
      "('Cairo', 'Egypt', 'Fall', 22.2, 4.5)\n"
     ]
    }
   ],
   "source": [
    "# Commit the changes\n",
    "conn.commit()\n",
    "\n",
    "# Verify the inserted data\n",
    "cursor.execute(\"SELECT * FROM WeatherData\")\n",
    "rows = cursor.fetchall()\n",
    "for row in rows:\n",
    "    print(row)"
   ]
  },
  {
   "cell_type": "markdown",
   "id": "a3b2583d",
   "metadata": {},
   "source": [
    "## SQL queries"
   ]
  },
  {
   "cell_type": "markdown",
   "id": "d5a7e662",
   "metadata": {},
   "source": [
    "### a) All the temperature data. "
   ]
  },
  {
   "cell_type": "code",
   "execution_count": 53,
   "id": "64995485",
   "metadata": {},
   "outputs": [
    {
     "name": "stdout",
     "output_type": "stream",
     "text": [
      "Temperatures: [(24.8,), (28.4,), (27.9,), (27.6,), (4.2,), (8.3,), (15.7,), (10.4,), (13.6,), (20.7,), (27.7,), (22.2,)]\n"
     ]
    }
   ],
   "source": [
    "cursor.execute(\"SELECT Temperature FROM WeatherData\")\n",
    "print(\"Temperatures:\", cursor.fetchall())"
   ]
  },
  {
   "cell_type": "markdown",
   "id": "88b4cf66",
   "metadata": {},
   "source": [
    "### b) All the cities, but without repetition. "
   ]
  },
  {
   "cell_type": "code",
   "execution_count": 54,
   "id": "0ae004da",
   "metadata": {},
   "outputs": [
    {
     "name": "stdout",
     "output_type": "stream",
     "text": [
      "Cities: [('Mumbai',), ('London',), ('Cairo',)]\n"
     ]
    }
   ],
   "source": [
    "cursor.execute(\"SELECT DISTINCT City FROM WeatherData\")\n",
    "print(\"Cities:\", cursor.fetchall())"
   ]
  },
  {
   "cell_type": "markdown",
   "id": "d1d5160a",
   "metadata": {},
   "source": [
    "### c) All the records for India. "
   ]
  },
  {
   "cell_type": "code",
   "execution_count": 56,
   "id": "2e84cac9",
   "metadata": {},
   "outputs": [
    {
     "name": "stdout",
     "output_type": "stream",
     "text": [
      "Records for India: [('Mumbai', 'India', 'Winter', 24.8, 5.9), ('Mumbai', 'India', 'Spring', 28.4, 16.2), ('Mumbai', 'India', 'Summer', 27.9, 1549.4), ('Mumbai', 'India', 'Fall', 27.6, 346.0)]\n"
     ]
    }
   ],
   "source": [
    "cursor.execute(\"SELECT * FROM WeatherData WHERE Country = 'India'\")\n",
    "print(\"Records for India:\", cursor.fetchall())"
   ]
  },
  {
   "cell_type": "markdown",
   "id": "9719c3f0",
   "metadata": {},
   "source": [
    "### d) All the Fall records. "
   ]
  },
  {
   "cell_type": "code",
   "execution_count": 59,
   "id": "bd702aae",
   "metadata": {},
   "outputs": [
    {
     "name": "stdout",
     "output_type": "stream",
     "text": [
      "All the Fall records: [('Mumbai', 'India', 'Fall', 27.6, 346.0), ('London', 'United Kingdom', 'Fall', 10.4, 218.5), ('Cairo', 'Egypt', 'Fall', 22.2, 4.5)]\n"
     ]
    }
   ],
   "source": [
    "cursor.execute(\"SELECT * FROM WeatherData WHERE Season = 'Fall'\")\n",
    "print(\"All the Fall records:\", cursor.fetchall())"
   ]
  },
  {
   "cell_type": "markdown",
   "id": "b1e331a3",
   "metadata": {},
   "source": [
    "### e) The city, country, and season for which the average rainfall is between 200 and 400 millimeters."
   ]
  },
  {
   "cell_type": "code",
   "execution_count": 60,
   "id": "c6067508",
   "metadata": {},
   "outputs": [
    {
     "name": "stdout",
     "output_type": "stream",
     "text": [
      "Records for place with rainfall is between 200 and 400 millimeters: [('Mumbai', 'India', 'Fall'), ('London', 'United Kingdom', 'Winter'), ('London', 'United Kingdom', 'Fall')]\n"
     ]
    }
   ],
   "source": [
    "cursor.execute(\"SELECT City, Country, Season FROM WeatherData WHERE Rainfall BETWEEN 200 AND 400;\")\n",
    "print(\"Records for place with rainfall is between 200 and 400 millimeters:\", cursor.fetchall())"
   ]
  },
  {
   "cell_type": "markdown",
   "id": "21b28a80",
   "metadata": {},
   "source": [
    "### f) The city and country for which the average Fall temperature is above 20 degrees, in increasing temperature order. "
   ]
  },
  {
   "cell_type": "code",
   "execution_count": 61,
   "id": "e1b902f2",
   "metadata": {},
   "outputs": [
    {
     "name": "stdout",
     "output_type": "stream",
     "text": [
      "Records for place with average Fall temperature is above 20 degrees: [('Cairo', 'Egypt'), ('Mumbai', 'India')]\n"
     ]
    }
   ],
   "source": [
    "cursor.execute(\"SELECT City, Country FROM WeatherData WHERE Season = 'Fall' AND Temperature > 20 ORDER BY Temperature ASC;\")\n",
    "print(\"Records for place with average Fall temperature is above 20 degrees:\", cursor.fetchall())"
   ]
  },
  {
   "cell_type": "markdown",
   "id": "ebc5a273",
   "metadata": {},
   "source": [
    "### g) The total annual rainfall for Cairo. "
   ]
  },
  {
   "cell_type": "code",
   "execution_count": 64,
   "id": "26795b4f",
   "metadata": {},
   "outputs": [
    {
     "name": "stdout",
     "output_type": "stream",
     "text": [
      "The total annual rainfall for Cairo: [('Cairo', 27.6)]\n"
     ]
    }
   ],
   "source": [
    "cursor.execute(\"SELECT City, SUM(Rainfall) AS Total_Annual_Rainfall FROM WeatherData WHERE City = 'Cairo' GROUP BY City;\")\n",
    "print(\"The total annual rainfall for Cairo:\", cursor.fetchall())"
   ]
  },
  {
   "cell_type": "markdown",
   "id": "1b5984d6",
   "metadata": {},
   "source": [
    "### h) The total rainfall for each season. "
   ]
  },
  {
   "cell_type": "code",
   "execution_count": 65,
   "id": "4ac1970a",
   "metadata": {},
   "outputs": [
    {
     "name": "stdout",
     "output_type": "stream",
     "text": [
      "The total rainfall for each season: [('Fall', 569.0), ('Spring', 192.29999999999998), ('Summer', 1706.5), ('Winter', 230.1)]\n"
     ]
    }
   ],
   "source": [
    "cursor.execute(\"SELECT Season, SUM(Rainfall) AS Total_Rainfall FROM WeatherData GROUP BY Season;\")\n",
    "print(\"The total rainfall for each season:\", cursor.fetchall())"
   ]
  },
  {
   "cell_type": "markdown",
   "id": "e896e855",
   "metadata": {},
   "source": [
    "### Close the connection"
   ]
  },
  {
   "cell_type": "code",
   "execution_count": 66,
   "id": "57acec5a",
   "metadata": {},
   "outputs": [],
   "source": [
    "conn.close()"
   ]
  },
  {
   "cell_type": "markdown",
   "id": "e6985a2b",
   "metadata": {},
   "source": [
    "# Question 9\n",
    "Suppose list words is defined as follows: \n",
    "words  =  ['The',  'quick',  'brown',  'fox',  'jumps',  'over', \n",
    "'the',  'lazy',  'dog'] \n",
    "\n",
    "\n",
    "\n",
    "Write list comprehension expressions that use list words and generate the following \n",
    "lists: \n",
    "\n",
    "a) ['THE',  'QUICK',  'BROWN',  'FOX',  'JUMPS',  'OVER',  'THE', \n",
    "'LAZY',  'DOG'] \n",
    "b) ['the',  'quick',  'brown',  'fox',  'jumps',  'over',  'the', \n",
    "'lazy',  'dog'] \n",
    "c) [3,  5,  5,  3,  5,  4,  3,  4,  3] (the list of lengths of words in list \n",
    "words). \n",
    "d) [['THE',  'the',  3],  ['QUICK',  'quick',  5],  ['BROWN', \n",
    "'brown',  5],  ['FOX',  'fox',  3],  ['JUMPS',  'jumps',  5], \n",
    "['OVER',  'over',  4],  ['THE',  'the',  3],  ['LAZY',  'lazy', \n",
    "4],  ['DOG',  'dog',  3]] (the list containing a list for every word of list \n",
    "words, where each list contains the word in uppercase and lowercase and the \n",
    "length of the word.) \n",
    "e) ['The',  'quick',  'brown',  'fox',  'jumps',  'over',  'the', \n",
    "'lazy',  'dog'] (the list of words in list words containing 4 or more \n",
    "characters.) "
   ]
  },
  {
   "cell_type": "code",
   "execution_count": 68,
   "id": "be0638b5",
   "metadata": {},
   "outputs": [],
   "source": [
    "words = ['The', 'quick', 'brown', 'fox', 'jumps', 'over', 'the', 'lazy', 'dog']"
   ]
  },
  {
   "cell_type": "markdown",
   "id": "ddfad257",
   "metadata": {},
   "source": [
    "### a) Uppercase version"
   ]
  },
  {
   "cell_type": "code",
   "execution_count": 70,
   "id": "9ff38992",
   "metadata": {},
   "outputs": [
    {
     "name": "stdout",
     "output_type": "stream",
     "text": [
      "['THE', 'QUICK', 'BROWN', 'FOX', 'JUMPS', 'OVER', 'THE', 'LAZY', 'DOG']\n"
     ]
    }
   ],
   "source": [
    "uppercase_words = [word.upper() for word in words]\n",
    "print(uppercase_words)"
   ]
  },
  {
   "cell_type": "markdown",
   "id": "8bdcb4a2",
   "metadata": {},
   "source": [
    "### b) Lowercase version"
   ]
  },
  {
   "cell_type": "code",
   "execution_count": 71,
   "id": "5746fb51",
   "metadata": {},
   "outputs": [
    {
     "name": "stdout",
     "output_type": "stream",
     "text": [
      "['the', 'quick', 'brown', 'fox', 'jumps', 'over', 'the', 'lazy', 'dog']\n"
     ]
    }
   ],
   "source": [
    "lowercase_words = [word.lower() for word in words]\n",
    "print(lowercase_words)"
   ]
  },
  {
   "cell_type": "markdown",
   "id": "8c0f4f41",
   "metadata": {},
   "source": [
    "### c) Length of each word"
   ]
  },
  {
   "cell_type": "code",
   "execution_count": 73,
   "id": "9350f2da",
   "metadata": {},
   "outputs": [
    {
     "name": "stdout",
     "output_type": "stream",
     "text": [
      "[3, 5, 5, 3, 5, 4, 3, 4, 3]\n"
     ]
    }
   ],
   "source": [
    "word_lengths = [len(word) for word in words]\n",
    "print(word_lengths)"
   ]
  },
  {
   "cell_type": "markdown",
   "id": "49f1adc4",
   "metadata": {},
   "source": [
    "### d) Uppercase, lowercase, and length of each word"
   ]
  },
  {
   "cell_type": "code",
   "execution_count": 74,
   "id": "1d292ca7",
   "metadata": {},
   "outputs": [
    {
     "name": "stdout",
     "output_type": "stream",
     "text": [
      "[['THE', 'the', 3], ['QUICK', 'quick', 5], ['BROWN', 'brown', 5], ['FOX', 'fox', 3], ['JUMPS', 'jumps', 5], ['OVER', 'over', 4], ['THE', 'the', 3], ['LAZY', 'lazy', 4], ['DOG', 'dog', 3]]\n"
     ]
    }
   ],
   "source": [
    "detailed_words = [[word.upper(), word.lower(), len(word)] for word in words]\n",
    "print(detailed_words)"
   ]
  },
  {
   "cell_type": "markdown",
   "id": "7a1720f5",
   "metadata": {},
   "source": [
    "### e) Words with 4 or more characters"
   ]
  },
  {
   "cell_type": "code",
   "execution_count": 75,
   "id": "415ed83b",
   "metadata": {},
   "outputs": [
    {
     "name": "stdout",
     "output_type": "stream",
     "text": [
      "['quick', 'brown', 'jumps', 'over', 'lazy']\n"
     ]
    }
   ],
   "source": [
    "four_plus_chars = [word for word in words if len(word) >= 4]\n",
    "print(four_plus_chars)"
   ]
  },
  {
   "cell_type": "code",
   "execution_count": null,
   "id": "3dc54844",
   "metadata": {},
   "outputs": [],
   "source": []
  }
 ],
 "metadata": {
  "kernelspec": {
   "display_name": "Python 3 (ipykernel)",
   "language": "python",
   "name": "python3"
  },
  "language_info": {
   "codemirror_mode": {
    "name": "ipython",
    "version": 3
   },
   "file_extension": ".py",
   "mimetype": "text/x-python",
   "name": "python",
   "nbconvert_exporter": "python",
   "pygments_lexer": "ipython3",
   "version": "3.10.9"
  }
 },
 "nbformat": 4,
 "nbformat_minor": 5
}
